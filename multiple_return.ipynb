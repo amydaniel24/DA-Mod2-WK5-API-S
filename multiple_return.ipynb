{
 "cells": [
  {
   "cell_type": "code",
   "execution_count": 1,
   "id": "2ee0840c",
   "metadata": {},
   "outputs": [],
   "source": [
    "import requests\n",
    "import pandas as pd"
   ]
  },
  {
   "cell_type": "code",
   "execution_count": 2,
   "id": "f92e111f",
   "metadata": {},
   "outputs": [],
   "source": [
    "def get_multiple_kanye_quotes(n):\n",
    "    quotes = []\n",
    "    for _ in range(n):\n",
    "        response = requests.get(\"https://api.kanye.rest\")\n",
    "        if response.status_code == 200:\n",
    "            data = response.json()\n",
    "            quotes.append({'data': data['quote']})\n",
    "        else:\n",
    "            print(f\"Error: {response.status_code}\")\n",
    "    return pd.DataFrame(quotes)"
   ]
  },
  {
   "cell_type": "markdown",
   "id": "af1ef859",
   "metadata": {},
   "source": [
    "#Testing the code"
   ]
  },
  {
   "cell_type": "code",
   "execution_count": 3,
   "id": "200c86de",
   "metadata": {},
   "outputs": [
    {
     "name": "stdout",
     "output_type": "stream",
     "text": [
      "                                                data\n",
      "0  You basically can say anything to someone on a...\n",
      "1  We're going to move the entire music industry ...\n",
      "2  If I don't scream, if I don't say something th...\n",
      "3                We must form a union. We must unify\n",
      "4  Truth is my goal. Controversy is my gym. I'll ...\n",
      "5  Keep your nose out the sky, keep your heart to...\n",
      "6  I spoke to Dave Chapelle for two hours this mo...\n",
      "7                                  I'm the new Moses\n",
      "8                              I'm nice at ping pong\n",
      "9                               Artists are founders\n"
     ]
    }
   ],
   "source": [
    "quotes_df = get_multiple_kanye_quotes(10)\n",
    "print(quotes_df)"
   ]
  }
 ],
 "metadata": {
  "kernelspec": {
   "display_name": "Python 3",
   "language": "python",
   "name": "python3"
  },
  "language_info": {
   "codemirror_mode": {
    "name": "ipython",
    "version": 3
   },
   "file_extension": ".py",
   "mimetype": "text/x-python",
   "name": "python",
   "nbconvert_exporter": "python",
   "pygments_lexer": "ipython3",
   "version": "3.13.1"
  }
 },
 "nbformat": 4,
 "nbformat_minor": 5
}
