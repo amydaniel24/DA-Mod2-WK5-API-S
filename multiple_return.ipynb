{
 "cells": [
  {
   "cell_type": "code",
   "execution_count": 1,
   "id": "2ee0840c",
   "metadata": {},
   "outputs": [],
   "source": [
    "import requests\n",
    "import pandas as pd"
   ]
  },
  {
   "cell_type": "code",
   "execution_count": 2,
   "id": "f92e111f",
   "metadata": {},
   "outputs": [],
   "source": [
    "def get_multiple_kanye_quotes(n):\n",
    "    quotes = []\n",
    "    for _ in range(n):\n",
    "        response = requests.get(\"https://api.kanye.rest\")\n",
    "        if response.status_code == 200:\n",
    "            data = response.json()\n",
    "            quotes.append({'data': data['quote']})\n",
    "        else:\n",
    "            print(f\"Error: {response.status_code}\")\n",
    "    return pd.DataFrame(quotes)"
   ]
  }
 ],
 "metadata": {
  "kernelspec": {
   "display_name": "Python 3",
   "language": "python",
   "name": "python3"
  },
  "language_info": {
   "codemirror_mode": {
    "name": "ipython",
    "version": 3
   },
   "file_extension": ".py",
   "mimetype": "text/x-python",
   "name": "python",
   "nbconvert_exporter": "python",
   "pygments_lexer": "ipython3",
   "version": "3.13.1"
  }
 },
 "nbformat": 4,
 "nbformat_minor": 5
}
