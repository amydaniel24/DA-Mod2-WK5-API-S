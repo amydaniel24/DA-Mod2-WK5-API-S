{
 "cells": [
  {
   "cell_type": "code",
   "execution_count": 1,
   "id": "d06283b6",
   "metadata": {},
   "outputs": [],
   "source": [
    "import requests\n",
    "import pandas as pd"
   ]
  },
  {
   "cell_type": "code",
   "execution_count": 2,
   "id": "cf8ff45b",
   "metadata": {},
   "outputs": [],
   "source": [
    "def get_kanye_quote():\n",
    "    url = \"https://api.kanye.rest\"\n",
    "    response = requests.get(url)\n",
    "    if response.status_code == 200:\n",
    "        print(\"Success!\")\n",
    "        data = response.json()\n",
    "        return pd.DataFrame([{'data': data['quote']}])\n",
    "    else:\n",
    "        print(f\"Error: {response.status_code}\")\n",
    "        return pd.DataFrame()"
   ]
  },
  {
   "cell_type": "markdown",
   "id": "fb78f3c9",
   "metadata": {},
   "source": [
    "#test the code"
   ]
  },
  {
   "cell_type": "code",
   "execution_count": 3,
   "id": "f74196f0",
   "metadata": {},
   "outputs": [
    {
     "name": "stdout",
     "output_type": "stream",
     "text": [
      "Success!\n",
      "                                                data\n",
      "0  Today is the best day ever and tomorrow's goin...\n"
     ]
    }
   ],
   "source": [
    "quote_df = get_kanye_quote()\n",
    "print(quote_df)"
   ]
  }
 ],
 "metadata": {
  "kernelspec": {
   "display_name": "Python 3",
   "language": "python",
   "name": "python3"
  },
  "language_info": {
   "codemirror_mode": {
    "name": "ipython",
    "version": 3
   },
   "file_extension": ".py",
   "mimetype": "text/x-python",
   "name": "python",
   "nbconvert_exporter": "python",
   "pygments_lexer": "ipython3",
   "version": "3.13.1"
  }
 },
 "nbformat": 4,
 "nbformat_minor": 5
}
